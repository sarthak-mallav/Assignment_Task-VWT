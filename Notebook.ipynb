{
 "cells": [
  {
   "cell_type": "code",
   "execution_count": 1,
   "id": "23af79b2",
   "metadata": {},
   "outputs": [],
   "source": [
    "import pandas as pd\n",
    "import numpy as np\n",
    "from keras.models import Sequential\n",
    "from keras.layers import Embedding, Flatten, Dense\n",
    "from tensorflow.keras.preprocessing.text import Tokenizer\n",
    "from tensorflow.keras.preprocessing.sequence import pad_sequences\n",
    "from sklearn.model_selection import train_test_split\n",
    "import language_tool_python\n",
    "import tensorflow as tf"
   ]
  },
  {
   "cell_type": "code",
   "execution_count": 2,
   "id": "4265860e",
   "metadata": {},
   "outputs": [],
   "source": [
    "# Clear the TensorFlow session\n",
    "tf.keras.backend.clear_session()"
   ]
  },
  {
   "cell_type": "code",
   "execution_count": 3,
   "id": "36eced6e",
   "metadata": {},
   "outputs": [],
   "source": [
    "df = pd.read_csv('Data for AI Assignment - Sheet1.csv', usecols=['Text', 'Classification'])"
   ]
  },
  {
   "cell_type": "code",
   "execution_count": 4,
   "id": "5ef5b6c3",
   "metadata": {},
   "outputs": [
    {
     "data": {
      "text/html": [
       "<div>\n",
       "<style scoped>\n",
       "    .dataframe tbody tr th:only-of-type {\n",
       "        vertical-align: middle;\n",
       "    }\n",
       "\n",
       "    .dataframe tbody tr th {\n",
       "        vertical-align: top;\n",
       "    }\n",
       "\n",
       "    .dataframe thead th {\n",
       "        text-align: right;\n",
       "    }\n",
       "</style>\n",
       "<table border=\"1\" class=\"dataframe\">\n",
       "  <thead>\n",
       "    <tr style=\"text-align: right;\">\n",
       "      <th></th>\n",
       "      <th>Text</th>\n",
       "      <th>Classification</th>\n",
       "    </tr>\n",
       "  </thead>\n",
       "  <tbody>\n",
       "    <tr>\n",
       "      <th>0</th>\n",
       "      <td>i didnt feel humiliated</td>\n",
       "      <td>sadness</td>\n",
       "    </tr>\n",
       "    <tr>\n",
       "      <th>1</th>\n",
       "      <td>i can go from feeling so hopeless to so damned...</td>\n",
       "      <td>sadness</td>\n",
       "    </tr>\n",
       "    <tr>\n",
       "      <th>2</th>\n",
       "      <td>im grabbing a minute to post i feel greedy wrong</td>\n",
       "      <td>anger</td>\n",
       "    </tr>\n",
       "    <tr>\n",
       "      <th>3</th>\n",
       "      <td>i am ever feeling nostalgic about the fireplac...</td>\n",
       "      <td>love</td>\n",
       "    </tr>\n",
       "    <tr>\n",
       "      <th>4</th>\n",
       "      <td>i am feeling grouchy</td>\n",
       "      <td>anger</td>\n",
       "    </tr>\n",
       "  </tbody>\n",
       "</table>\n",
       "</div>"
      ],
      "text/plain": [
       "                                                Text Classification\n",
       "0                            i didnt feel humiliated        sadness\n",
       "1  i can go from feeling so hopeless to so damned...        sadness\n",
       "2   im grabbing a minute to post i feel greedy wrong          anger\n",
       "3  i am ever feeling nostalgic about the fireplac...           love\n",
       "4                               i am feeling grouchy          anger"
      ]
     },
     "execution_count": 4,
     "metadata": {},
     "output_type": "execute_result"
    }
   ],
   "source": [
    "df.head()"
   ]
  },
  {
   "cell_type": "code",
   "execution_count": 5,
   "id": "82886cbd",
   "metadata": {},
   "outputs": [],
   "source": [
    "# Drop duplicates\n",
    "df.drop_duplicates(inplace=True)"
   ]
  },
  {
   "cell_type": "code",
   "execution_count": 6,
   "id": "8a4ff233",
   "metadata": {},
   "outputs": [
    {
     "name": "stdout",
     "output_type": "stream",
     "text": [
      "Texts with Profanities:\n",
      "                                                    Text Classification\n",
      "34     i can t imagine a real life scenario where i w...            joy\n",
      "58     i have this feeling that if i have anymore vig...            joy\n",
      "72     i don t necessarily think f bombs and sex are ...            joy\n",
      "95     i feel like throwing away the shitty piece of ...        sadness\n",
      "206    i legs would feel shitty for a few miles but w...        sadness\n",
      "...                                                  ...            ...\n",
      "17703  i feel really shitty and it s seriously like t...        sadness\n",
      "17753  i feel like everything that i hope to become a...        sadness\n",
      "17791  i took care of myself by avoiding family event...        sadness\n",
      "17796                      i feel like a moronic bastard        sadness\n",
      "17979  i dont want to always be judgmental of particu...        sadness\n",
      "\n",
      "[221 rows x 2 columns]\n"
     ]
    }
   ],
   "source": [
    "# Identify and display texts with profanities\n",
    "\n",
    "profanity_list = ['fuck', 'Bastard', 'shit', 'sex']\n",
    "texts_with_profanities = df[df['Text'].str.contains('|'.join(profanity_list), case=False)]\n",
    "print(\"Texts with Profanities:\")\n",
    "print(texts_with_profanities[['Text', 'Classification']])"
   ]
  },
  {
   "cell_type": "code",
   "execution_count": 7,
   "id": "01ac6a6f",
   "metadata": {},
   "outputs": [],
   "source": [
    "# Remove profanities\n",
    "df = df[~df['Text'].str.contains('|'.join(profanity_list), case=False)]"
   ]
  },
  {
   "cell_type": "code",
   "execution_count": 8,
   "id": "5f2d04a1",
   "metadata": {},
   "outputs": [],
   "source": [
    "# Convert Classification to numeric\n",
    "\n",
    "class_mapping = {'sadness': 0.0, 'anger': 0.1, 'love': 0.2, 'surprise': 0.3, 'fear': 0.4,'joy':0.5}\n",
    "df['Classification_code'] = df['Classification'].map(class_mapping)"
   ]
  },
  {
   "cell_type": "code",
   "execution_count": 9,
   "id": "26b5939e",
   "metadata": {},
   "outputs": [
    {
     "data": {
      "text/html": [
       "<div>\n",
       "<style scoped>\n",
       "    .dataframe tbody tr th:only-of-type {\n",
       "        vertical-align: middle;\n",
       "    }\n",
       "\n",
       "    .dataframe tbody tr th {\n",
       "        vertical-align: top;\n",
       "    }\n",
       "\n",
       "    .dataframe thead th {\n",
       "        text-align: right;\n",
       "    }\n",
       "</style>\n",
       "<table border=\"1\" class=\"dataframe\">\n",
       "  <thead>\n",
       "    <tr style=\"text-align: right;\">\n",
       "      <th></th>\n",
       "      <th>Text</th>\n",
       "      <th>Classification</th>\n",
       "      <th>Classification_code</th>\n",
       "    </tr>\n",
       "  </thead>\n",
       "  <tbody>\n",
       "    <tr>\n",
       "      <th>0</th>\n",
       "      <td>i didnt feel humiliated</td>\n",
       "      <td>sadness</td>\n",
       "      <td>0.0</td>\n",
       "    </tr>\n",
       "    <tr>\n",
       "      <th>1</th>\n",
       "      <td>i can go from feeling so hopeless to so damned...</td>\n",
       "      <td>sadness</td>\n",
       "      <td>0.0</td>\n",
       "    </tr>\n",
       "    <tr>\n",
       "      <th>2</th>\n",
       "      <td>im grabbing a minute to post i feel greedy wrong</td>\n",
       "      <td>anger</td>\n",
       "      <td>0.1</td>\n",
       "    </tr>\n",
       "    <tr>\n",
       "      <th>3</th>\n",
       "      <td>i am ever feeling nostalgic about the fireplac...</td>\n",
       "      <td>love</td>\n",
       "      <td>0.2</td>\n",
       "    </tr>\n",
       "    <tr>\n",
       "      <th>4</th>\n",
       "      <td>i am feeling grouchy</td>\n",
       "      <td>anger</td>\n",
       "      <td>0.1</td>\n",
       "    </tr>\n",
       "    <tr>\n",
       "      <th>...</th>\n",
       "      <td>...</td>\n",
       "      <td>...</td>\n",
       "      <td>...</td>\n",
       "    </tr>\n",
       "    <tr>\n",
       "      <th>17996</th>\n",
       "      <td>i just keep feeling like someone is being unki...</td>\n",
       "      <td>anger</td>\n",
       "      <td>0.1</td>\n",
       "    </tr>\n",
       "    <tr>\n",
       "      <th>17997</th>\n",
       "      <td>im feeling a little cranky negative after this...</td>\n",
       "      <td>anger</td>\n",
       "      <td>0.1</td>\n",
       "    </tr>\n",
       "    <tr>\n",
       "      <th>17998</th>\n",
       "      <td>i feel that i am useful to my people and that ...</td>\n",
       "      <td>joy</td>\n",
       "      <td>0.5</td>\n",
       "    </tr>\n",
       "    <tr>\n",
       "      <th>17999</th>\n",
       "      <td>im feeling more comfortable with derby i feel ...</td>\n",
       "      <td>joy</td>\n",
       "      <td>0.5</td>\n",
       "    </tr>\n",
       "    <tr>\n",
       "      <th>18000</th>\n",
       "      <td>i feel all weird when i have to meet w people ...</td>\n",
       "      <td>fear</td>\n",
       "      <td>0.4</td>\n",
       "    </tr>\n",
       "  </tbody>\n",
       "</table>\n",
       "<p>17778 rows × 3 columns</p>\n",
       "</div>"
      ],
      "text/plain": [
       "                                                    Text Classification  \\\n",
       "0                                i didnt feel humiliated        sadness   \n",
       "1      i can go from feeling so hopeless to so damned...        sadness   \n",
       "2       im grabbing a minute to post i feel greedy wrong          anger   \n",
       "3      i am ever feeling nostalgic about the fireplac...           love   \n",
       "4                                   i am feeling grouchy          anger   \n",
       "...                                                  ...            ...   \n",
       "17996  i just keep feeling like someone is being unki...          anger   \n",
       "17997  im feeling a little cranky negative after this...          anger   \n",
       "17998  i feel that i am useful to my people and that ...            joy   \n",
       "17999  im feeling more comfortable with derby i feel ...            joy   \n",
       "18000  i feel all weird when i have to meet w people ...           fear   \n",
       "\n",
       "       Classification_code  \n",
       "0                      0.0  \n",
       "1                      0.0  \n",
       "2                      0.1  \n",
       "3                      0.2  \n",
       "4                      0.1  \n",
       "...                    ...  \n",
       "17996                  0.1  \n",
       "17997                  0.1  \n",
       "17998                  0.5  \n",
       "17999                  0.5  \n",
       "18000                  0.4  \n",
       "\n",
       "[17778 rows x 3 columns]"
      ]
     },
     "execution_count": 9,
     "metadata": {},
     "output_type": "execute_result"
    }
   ],
   "source": [
    "# Check grammar errors\n",
    "\n",
    "df"
   ]
  },
  {
   "cell_type": "code",
   "execution_count": 10,
   "id": "23e72793",
   "metadata": {},
   "outputs": [],
   "source": [
    "from language_tool_python import LanguageTool\n",
    "tool = LanguageTool('en-US')\n",
    "\n",
    "# Function to check for grammar errors\n",
    "def has_grammar_errors(text):\n",
    "    matches = tool.check(text)\n",
    "    return len(matches) > 0"
   ]
  },
  {
   "cell_type": "code",
   "execution_count": 11,
   "id": "50244192",
   "metadata": {},
   "outputs": [],
   "source": [
    "# Create a new column 'Grammar_errors' indicating whether each sentence has grammar errors\n",
    "df['Grammar_errors'] = df['Text'].apply(has_grammar_errors)"
   ]
  },
  {
   "cell_type": "code",
   "execution_count": 12,
   "id": "1f551ade",
   "metadata": {},
   "outputs": [
    {
     "name": "stdout",
     "output_type": "stream",
     "text": [
      "\n",
      "Texts with Grammar Errors:\n",
      "                                                    Text Classification\n",
      "0                                i didnt feel humiliated        sadness\n",
      "1      i can go from feeling so hopeless to so damned...        sadness\n",
      "2       im grabbing a minute to post i feel greedy wrong          anger\n",
      "3      i am ever feeling nostalgic about the fireplac...           love\n",
      "4                                   i am feeling grouchy          anger\n",
      "...                                                  ...            ...\n",
      "17996  i just keep feeling like someone is being unki...          anger\n",
      "17997  im feeling a little cranky negative after this...          anger\n",
      "17998  i feel that i am useful to my people and that ...            joy\n",
      "17999  im feeling more comfortable with derby i feel ...            joy\n",
      "18000  i feel all weird when i have to meet w people ...           fear\n",
      "\n",
      "[17778 rows x 2 columns]\n"
     ]
    }
   ],
   "source": [
    "# Display texts with grammar errors\n",
    "print(\"\\nTexts with Grammar Errors:\")\n",
    "texts_with_grammar_errors = df[df['Grammar_errors']]\n",
    "print(texts_with_grammar_errors[['Text', 'Classification']])"
   ]
  },
  {
   "cell_type": "code",
   "execution_count": 13,
   "id": "6ca5e0f9",
   "metadata": {},
   "outputs": [],
   "source": [
    "# Create a new column 'Grammar_mark' to mark grammatically incorrect or incomplete sentences\n",
    "df['Grammar_mark'] = df['Grammar_errors'].map({True: 'Incorrect', False: 'Correct'})"
   ]
  },
  {
   "cell_type": "code",
   "execution_count": 14,
   "id": "5f3adf1e",
   "metadata": {},
   "outputs": [
    {
     "name": "stdout",
     "output_type": "stream",
     "text": [
      "\n",
      "DataFrame after marking grammar errors:\n",
      "                                                    Text Classification  \\\n",
      "0                                i didnt feel humiliated        sadness   \n",
      "1      i can go from feeling so hopeless to so damned...        sadness   \n",
      "2       im grabbing a minute to post i feel greedy wrong          anger   \n",
      "3      i am ever feeling nostalgic about the fireplac...           love   \n",
      "4                                   i am feeling grouchy          anger   \n",
      "...                                                  ...            ...   \n",
      "17996  i just keep feeling like someone is being unki...          anger   \n",
      "17997  im feeling a little cranky negative after this...          anger   \n",
      "17998  i feel that i am useful to my people and that ...            joy   \n",
      "17999  im feeling more comfortable with derby i feel ...            joy   \n",
      "18000  i feel all weird when i have to meet w people ...           fear   \n",
      "\n",
      "       Classification_code  Grammar_errors Grammar_mark  \n",
      "0                      0.0            True    Incorrect  \n",
      "1                      0.0            True    Incorrect  \n",
      "2                      0.1            True    Incorrect  \n",
      "3                      0.2            True    Incorrect  \n",
      "4                      0.1            True    Incorrect  \n",
      "...                    ...             ...          ...  \n",
      "17996                  0.1            True    Incorrect  \n",
      "17997                  0.1            True    Incorrect  \n",
      "17998                  0.5            True    Incorrect  \n",
      "17999                  0.5            True    Incorrect  \n",
      "18000                  0.4            True    Incorrect  \n",
      "\n",
      "[17778 rows x 5 columns]\n"
     ]
    }
   ],
   "source": [
    "# Display the updated DataFrame\n",
    "print(\"\\nDataFrame after marking grammar errors:\")\n",
    "print(df)"
   ]
  },
  {
   "cell_type": "code",
   "execution_count": 15,
   "id": "00e102f6",
   "metadata": {},
   "outputs": [],
   "source": [
    "max_fatures = 2000\n",
    "tokenizer = Tokenizer(num_words=max_fatures, split=' ')\n",
    "tokenizer.fit_on_texts(df['Text'].values)\n",
    "X = tokenizer.texts_to_sequences(df['Text'].values)\n",
    "X = pad_sequences(X)"
   ]
  },
  {
   "cell_type": "code",
   "execution_count": 16,
   "id": "8b4810ac",
   "metadata": {},
   "outputs": [
    {
     "name": "stdout",
     "output_type": "stream",
     "text": [
      "Model: \"sequential\"\n",
      "_________________________________________________________________\n",
      " Layer (type)                Output Shape              Param #   \n",
      "=================================================================\n",
      " embedding (Embedding)       (None, 61, 128)           256000    \n",
      "                                                                 \n",
      " spatial_dropout1d (Spatial  (None, 61, 128)           0         \n",
      " Dropout1D)                                                      \n",
      "                                                                 \n",
      " lstm (LSTM)                 (None, 196)               254800    \n",
      "                                                                 \n",
      " dense (Dense)               (None, 6)                 1182      \n",
      "                                                                 \n",
      "=================================================================\n",
      "Total params: 511982 (1.95 MB)\n",
      "Trainable params: 511982 (1.95 MB)\n",
      "Non-trainable params: 0 (0.00 Byte)\n",
      "_________________________________________________________________\n",
      "None\n",
      "(11911, 61) (11911, 6)\n",
      "(5867, 61) (5867, 6)\n",
      "Epoch 1/25\n",
      "373/373 [==============================] - 58s 142ms/step - loss: 1.3446 - accuracy: 0.4795\n",
      "Epoch 2/25\n",
      "373/373 [==============================] - 49s 130ms/step - loss: 0.4184 - accuracy: 0.8660\n",
      "Epoch 3/25\n",
      "373/373 [==============================] - 50s 135ms/step - loss: 0.2179 - accuracy: 0.9211\n",
      "Epoch 4/25\n",
      "373/373 [==============================] - 54s 145ms/step - loss: 0.1641 - accuracy: 0.9366\n",
      "Epoch 5/25\n",
      "373/373 [==============================] - 52s 138ms/step - loss: 0.1386 - accuracy: 0.9444\n",
      "Epoch 6/25\n",
      "373/373 [==============================] - 60s 160ms/step - loss: 0.1166 - accuracy: 0.9496\n",
      "Epoch 7/25\n",
      "373/373 [==============================] - 58s 156ms/step - loss: 0.1112 - accuracy: 0.9548\n",
      "Epoch 8/25\n",
      "373/373 [==============================] - 57s 154ms/step - loss: 0.0936 - accuracy: 0.9605\n",
      "Epoch 9/25\n",
      "373/373 [==============================] - 54s 144ms/step - loss: 0.0817 - accuracy: 0.9652\n",
      "Epoch 10/25\n",
      "373/373 [==============================] - 52s 138ms/step - loss: 0.0766 - accuracy: 0.9699\n",
      "Epoch 11/25\n",
      "373/373 [==============================] - 55s 147ms/step - loss: 0.0707 - accuracy: 0.9723\n",
      "Epoch 12/25\n",
      "373/373 [==============================] - 58s 156ms/step - loss: 0.0593 - accuracy: 0.9763\n",
      "Epoch 13/25\n",
      "373/373 [==============================] - 55s 147ms/step - loss: 0.0563 - accuracy: 0.9783\n",
      "Epoch 14/25\n",
      "373/373 [==============================] - 53s 142ms/step - loss: 0.0484 - accuracy: 0.9820\n",
      "Epoch 15/25\n",
      "373/373 [==============================] - 58s 154ms/step - loss: 0.0526 - accuracy: 0.9800\n",
      "Epoch 16/25\n",
      "373/373 [==============================] - 57s 153ms/step - loss: 0.0524 - accuracy: 0.9820\n",
      "Epoch 17/25\n",
      "373/373 [==============================] - 50s 134ms/step - loss: 0.0438 - accuracy: 0.9826\n",
      "Epoch 18/25\n",
      "373/373 [==============================] - 51s 137ms/step - loss: 0.0348 - accuracy: 0.9859\n",
      "Epoch 19/25\n",
      "373/373 [==============================] - 56s 149ms/step - loss: 0.0368 - accuracy: 0.9880\n",
      "Epoch 20/25\n",
      "373/373 [==============================] - 54s 145ms/step - loss: 0.0359 - accuracy: 0.9874\n",
      "Epoch 21/25\n",
      "373/373 [==============================] - 51s 136ms/step - loss: 0.0285 - accuracy: 0.9887\n",
      "Epoch 22/25\n",
      "373/373 [==============================] - 54s 144ms/step - loss: 0.0281 - accuracy: 0.9903\n",
      "Epoch 23/25\n",
      "373/373 [==============================] - 56s 149ms/step - loss: 0.0287 - accuracy: 0.9905\n",
      "Epoch 24/25\n",
      "373/373 [==============================] - 52s 140ms/step - loss: 0.0270 - accuracy: 0.9904\n",
      "Epoch 25/25\n",
      "373/373 [==============================] - 54s 144ms/step - loss: 0.0202 - accuracy: 0.9920\n"
     ]
    },
    {
     "name": "stderr",
     "output_type": "stream",
     "text": [
      "C:\\Users\\Sarthak\\anaconda3\\lib\\site-packages\\keras\\src\\engine\\training.py:3079: UserWarning: You are saving your model as an HDF5 file via `model.save()`. This file format is considered legacy. We recommend using instead the native Keras format, e.g. `model.save('my_model.keras')`.\n",
      "  saving_api.save_model(\n"
     ]
    }
   ],
   "source": [
    "from keras.layers import Dense, Embedding, LSTM, SpatialDropout1D\n",
    "embed_dim = 128\n",
    "lstm_out = 196\n",
    "\n",
    "model = Sequential()\n",
    "model.add(Embedding(max_fatures, embed_dim,input_length = X.shape[1]))\n",
    "model.add(SpatialDropout1D(0.4))\n",
    "model.add(LSTM(lstm_out, dropout=0.2, recurrent_dropout=0.2))\n",
    "model.add(Dense(6,activation='softmax'))\n",
    "model.compile(loss = 'categorical_crossentropy', optimizer='adam',metrics = ['accuracy'])\n",
    "print(model.summary())\n",
    "\n",
    "Y = pd.get_dummies(df['Classification_code']).values\n",
    "X_train, X_test, Y_train, Y_test = train_test_split(X,Y, test_size = 0.33, random_state = 42)\n",
    "print(X_train.shape,Y_train.shape)\n",
    "print(X_test.shape,Y_test.shape)\n",
    "\n",
    "batch_size = 32\n",
    "model.fit(X_train, Y_train, epochs = 25, batch_size=batch_size, verbose = 1)\n",
    "model.save('/content/sen.h5')"
   ]
  },
  {
   "cell_type": "code",
   "execution_count": null,
   "id": "23859266",
   "metadata": {},
   "outputs": [],
   "source": []
  },
  {
   "cell_type": "code",
   "execution_count": null,
   "id": "c1c1fbda",
   "metadata": {},
   "outputs": [],
   "source": []
  }
 ],
 "metadata": {
  "kernelspec": {
   "display_name": "Python 3 (ipykernel)",
   "language": "python",
   "name": "python3"
  },
  "language_info": {
   "codemirror_mode": {
    "name": "ipython",
    "version": 3
   },
   "file_extension": ".py",
   "mimetype": "text/x-python",
   "name": "python",
   "nbconvert_exporter": "python",
   "pygments_lexer": "ipython3",
   "version": "3.10.9"
  }
 },
 "nbformat": 4,
 "nbformat_minor": 5
}
